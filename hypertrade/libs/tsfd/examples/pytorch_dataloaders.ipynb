{
 "cells": [
  {
   "cell_type": "code",
   "execution_count": 3,
   "metadata": {},
   "outputs": [
    {
     "name": "stderr",
     "output_type": "stream",
     "text": [
      "/home/vscode/.local/lib/python3.10/site-packages/pandera/engines/pandas_engine.py:67: UserWarning: Using typeguard < 3. Generic types like List[TYPE], Dict[TYPE, TYPE] will only validate the first element in the collection.\n",
      "  warnings.warn(\n"
     ]
    }
   ],
   "source": [
    "import pandas as pd\n",
    "\n",
    "from torch.utils.data import DataLoader\n",
    "\n",
    "from hypertrade.libs.tsfd.datasets.asset import OHLVCDataset\n",
    "from hypertrade.libs.tsfd.sources.csv import CSVSource\n",
    "from hypertrade.libs.tsfd.sources.formats.ohlvc import OHLVCFormat"
   ]
  },
  {
   "cell_type": "code",
   "execution_count": 4,
   "metadata": {},
   "outputs": [
    {
     "name": "stderr",
     "output_type": "stream",
     "text": [
      "/home/vscode/.cache/bazel/_bazel_vscode/7dbb5dae5ddc141eea214731ce40b550/execroot/__main__/bazel-out/k8-fastbuild/bin/hypertrade/libs/tsfd/examples/server.runfiles/__main__/hypertrade/libs/tsfd/sources/csv.py:109: UserWarning: Could not infer format, so each element will be parsed individually, falling back to `dateutil`. To ensure parsing is consistent and as-expected, please specify a format.\n",
      "  data = pd.read_csv(\n"
     ]
    }
   ],
   "source": [
    "ohlvc_dataset = OHLVCDataset(\n",
    "            data_source=CSVSource(\n",
    "                filepath=\"/workspaces/HyperTrade/hypertrade/libs/tsfd/tests/data/ohlvc/sample.csv\", format=OHLVCFormat\n",
    "            ),\n",
    "            name=\"ohlvc\",\n",
    "        )"
   ]
  },
  {
   "cell_type": "code",
   "execution_count": 11,
   "metadata": {},
   "outputs": [],
   "source": [
    "dl = DataLoader(ohlvc_dataset, batch_size=64, num_workers=3, collate_fn=lambda x: x)\n",
    "batch = next(iter(dl))"
   ]
  },
  {
   "cell_type": "code",
   "execution_count": 12,
   "metadata": {},
   "outputs": [
    {
     "data": {
      "text/html": [
       "<div>\n",
       "<style scoped>\n",
       "    .dataframe tbody tr th:only-of-type {\n",
       "        vertical-align: middle;\n",
       "    }\n",
       "\n",
       "    .dataframe tbody tr th {\n",
       "        vertical-align: top;\n",
       "    }\n",
       "\n",
       "    .dataframe thead th {\n",
       "        text-align: right;\n",
       "    }\n",
       "</style>\n",
       "<table border=\"1\" class=\"dataframe\">\n",
       "  <thead>\n",
       "    <tr style=\"text-align: right;\">\n",
       "      <th></th>\n",
       "      <th></th>\n",
       "      <th>open</th>\n",
       "      <th>high</th>\n",
       "      <th>low</th>\n",
       "      <th>close</th>\n",
       "      <th>volume</th>\n",
       "      <th>lastupdated</th>\n",
       "    </tr>\n",
       "    <tr>\n",
       "      <th>date</th>\n",
       "      <th>ticker</th>\n",
       "      <th></th>\n",
       "      <th></th>\n",
       "      <th></th>\n",
       "      <th></th>\n",
       "      <th></th>\n",
       "      <th></th>\n",
       "    </tr>\n",
       "  </thead>\n",
       "  <tbody>\n",
       "    <tr>\n",
       "      <th rowspan=\"3\" valign=\"top\">2018-09-04</th>\n",
       "      <th>AAPL</th>\n",
       "      <td>54.35</td>\n",
       "      <td>54.53</td>\n",
       "      <td>53.92</td>\n",
       "      <td>54.34</td>\n",
       "      <td>1.095605e+08</td>\n",
       "      <td>2024-11-08</td>\n",
       "    </tr>\n",
       "    <tr>\n",
       "      <th>BA</th>\n",
       "      <td>330.43</td>\n",
       "      <td>334.99</td>\n",
       "      <td>328.18</td>\n",
       "      <td>334.93</td>\n",
       "      <td>2.699141e+06</td>\n",
       "      <td>2020-05-01</td>\n",
       "    </tr>\n",
       "    <tr>\n",
       "      <th>GE</th>\n",
       "      <td>59.94</td>\n",
       "      <td>59.94</td>\n",
       "      <td>58.78</td>\n",
       "      <td>58.96</td>\n",
       "      <td>5.593843e+06</td>\n",
       "      <td>2024-12-29</td>\n",
       "    </tr>\n",
       "  </tbody>\n",
       "</table>\n",
       "</div>"
      ],
      "text/plain": [
       "                     open    high     low   close        volume lastupdated\n",
       "date       ticker                                                          \n",
       "2018-09-04 AAPL     54.35   54.53   53.92   54.34  1.095605e+08  2024-11-08\n",
       "           BA      330.43  334.99  328.18  334.93  2.699141e+06  2020-05-01\n",
       "           GE       59.94   59.94   58.78   58.96  5.593843e+06  2024-12-29"
      ]
     },
     "execution_count": 12,
     "metadata": {},
     "output_type": "execute_result"
    }
   ],
   "source": [
    "batch[0]"
   ]
  }
 ],
 "metadata": {
  "kernelspec": {
   "display_name": "Python 3 (ipykernel)",
   "language": "python",
   "name": "python3"
  },
  "language_info": {
   "codemirror_mode": {
    "name": "ipython",
    "version": 3
   },
   "file_extension": ".py",
   "mimetype": "text/x-python",
   "name": "python",
   "nbconvert_exporter": "python",
   "pygments_lexer": "ipython3",
   "version": "3.10.12"
  }
 },
 "nbformat": 4,
 "nbformat_minor": 2
}
