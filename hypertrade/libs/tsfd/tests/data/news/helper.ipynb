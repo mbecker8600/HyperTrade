{
 "cells": [
  {
   "cell_type": "code",
   "execution_count": 5,
   "metadata": {},
   "outputs": [],
   "source": [
    "import pandas as pd\n",
    "\n",
    "df = pd.read_csv(\"headline_sample.csv\", parse_dates= True, index_col=[\"date\"])"
   ]
  },
  {
   "cell_type": "code",
   "execution_count": 6,
   "metadata": {},
   "outputs": [
    {
     "data": {
      "text/html": [
       "<div>\n",
       "<style scoped>\n",
       "    .dataframe tbody tr th:only-of-type {\n",
       "        vertical-align: middle;\n",
       "    }\n",
       "\n",
       "    .dataframe tbody tr th {\n",
       "        vertical-align: top;\n",
       "    }\n",
       "\n",
       "    .dataframe thead th {\n",
       "        text-align: right;\n",
       "    }\n",
       "</style>\n",
       "<table border=\"1\" class=\"dataframe\">\n",
       "  <thead>\n",
       "    <tr style=\"text-align: right;\">\n",
       "      <th></th>\n",
       "      <th>headline</th>\n",
       "      <th>preview</th>\n",
       "    </tr>\n",
       "    <tr>\n",
       "      <th>date</th>\n",
       "      <th></th>\n",
       "      <th></th>\n",
       "    </tr>\n",
       "  </thead>\n",
       "  <tbody>\n",
       "    <tr>\n",
       "      <th>2020-07-17 19:51:00</th>\n",
       "      <td>Jim Cramer: A better way to invest in the Covi...</td>\n",
       "      <td>\"Mad Money\" host Jim Cramer recommended buying...</td>\n",
       "    </tr>\n",
       "    <tr>\n",
       "      <th>2020-07-17 19:33:00</th>\n",
       "      <td>Cramer's lightning round: I would own Teradyne</td>\n",
       "      <td>\"Mad Money\" host Jim Cramer rings the lightnin...</td>\n",
       "    </tr>\n",
       "    <tr>\n",
       "      <th>2020-07-17 19:25:00</th>\n",
       "      <td>Cramer's week ahead: Big week for earnings, ev...</td>\n",
       "      <td>\"We'll pay more for the earnings of the non-Co...</td>\n",
       "    </tr>\n",
       "    <tr>\n",
       "      <th>2020-07-17 16:24:00</th>\n",
       "      <td>IQ Capital CEO Keith Bliss says tech and healt...</td>\n",
       "      <td>Keith Bliss, IQ Capital CEO, joins \"Closing Be...</td>\n",
       "    </tr>\n",
       "    <tr>\n",
       "      <th>2020-07-16 19:36:00</th>\n",
       "      <td>Wall Street delivered the 'kind of pullback I'...</td>\n",
       "      <td>\"Look for the stocks of high-quality companies...</td>\n",
       "    </tr>\n",
       "    <tr>\n",
       "      <th>...</th>\n",
       "      <td>...</td>\n",
       "      <td>...</td>\n",
       "    </tr>\n",
       "    <tr>\n",
       "      <th>2017-12-26 10:15:00</th>\n",
       "      <td>Markets lack Christmas cheer</td>\n",
       "      <td>According to Kensho, here's how markets have f...</td>\n",
       "    </tr>\n",
       "    <tr>\n",
       "      <th>2018-09-20 11:12:00</th>\n",
       "      <td>Cramer Remix: The biggest mistake you can make...</td>\n",
       "      <td>Jim Cramer revealed his top rule when it comes...</td>\n",
       "    </tr>\n",
       "    <tr>\n",
       "      <th>2017-12-22 19:07:00</th>\n",
       "      <td>Cramer says owning too many stocks and too lit...</td>\n",
       "      <td>Jim Cramer broke down why owning fewer stocks ...</td>\n",
       "    </tr>\n",
       "    <tr>\n",
       "      <th>2017-12-22 19:07:00</th>\n",
       "      <td>Cramer: I helped investors through the 2010 fl...</td>\n",
       "      <td>Jim Cramer built on his \"nobody ever made a di...</td>\n",
       "    </tr>\n",
       "    <tr>\n",
       "      <th>2017-12-22 18:52:00</th>\n",
       "      <td>Cramer: Never buy a stock all at once — you'll...</td>\n",
       "      <td>Jim Cramer doubled down on his key investing r...</td>\n",
       "    </tr>\n",
       "  </tbody>\n",
       "</table>\n",
       "<p>2800 rows × 2 columns</p>\n",
       "</div>"
      ],
      "text/plain": [
       "                                                              headline  \\\n",
       "date                                                                     \n",
       "2020-07-17 19:51:00  Jim Cramer: A better way to invest in the Covi...   \n",
       "2020-07-17 19:33:00     Cramer's lightning round: I would own Teradyne   \n",
       "2020-07-17 19:25:00  Cramer's week ahead: Big week for earnings, ev...   \n",
       "2020-07-17 16:24:00  IQ Capital CEO Keith Bliss says tech and healt...   \n",
       "2020-07-16 19:36:00  Wall Street delivered the 'kind of pullback I'...   \n",
       "...                                                                ...   \n",
       "2017-12-26 10:15:00                       Markets lack Christmas cheer   \n",
       "2018-09-20 11:12:00  Cramer Remix: The biggest mistake you can make...   \n",
       "2017-12-22 19:07:00  Cramer says owning too many stocks and too lit...   \n",
       "2017-12-22 19:07:00  Cramer: I helped investors through the 2010 fl...   \n",
       "2017-12-22 18:52:00  Cramer: Never buy a stock all at once — you'll...   \n",
       "\n",
       "                                                               preview  \n",
       "date                                                                    \n",
       "2020-07-17 19:51:00  \"Mad Money\" host Jim Cramer recommended buying...  \n",
       "2020-07-17 19:33:00  \"Mad Money\" host Jim Cramer rings the lightnin...  \n",
       "2020-07-17 19:25:00  \"We'll pay more for the earnings of the non-Co...  \n",
       "2020-07-17 16:24:00  Keith Bliss, IQ Capital CEO, joins \"Closing Be...  \n",
       "2020-07-16 19:36:00  \"Look for the stocks of high-quality companies...  \n",
       "...                                                                ...  \n",
       "2017-12-26 10:15:00  According to Kensho, here's how markets have f...  \n",
       "2018-09-20 11:12:00  Jim Cramer revealed his top rule when it comes...  \n",
       "2017-12-22 19:07:00  Jim Cramer broke down why owning fewer stocks ...  \n",
       "2017-12-22 19:07:00  Jim Cramer built on his \"nobody ever made a di...  \n",
       "2017-12-22 18:52:00  Jim Cramer doubled down on his key investing r...  \n",
       "\n",
       "[2800 rows x 2 columns]"
      ]
     },
     "execution_count": 6,
     "metadata": {},
     "output_type": "execute_result"
    }
   ],
   "source": [
    "df"
   ]
  },
  {
   "cell_type": "code",
   "execution_count": 7,
   "metadata": {},
   "outputs": [],
   "source": [
    "import pytz\n",
    "tz = pytz.timezone(\"America/New_York\")"
   ]
  },
  {
   "cell_type": "code",
   "execution_count": null,
   "metadata": {},
   "outputs": [],
   "source": [
    "df.index = df.index.tz_localize(tz)"
   ]
  },
  {
   "cell_type": "code",
   "execution_count": 10,
   "metadata": {},
   "outputs": [],
   "source": [
    "df.index = df.index.tz_convert(pytz.utc)"
   ]
  },
  {
   "cell_type": "code",
   "execution_count": 12,
   "metadata": {},
   "outputs": [],
   "source": [
    "df.to_csv(\"headline_sample.csv\")"
   ]
  }
 ],
 "metadata": {
  "kernelspec": {
   "display_name": "Python 3",
   "language": "python",
   "name": "python3"
  },
  "language_info": {
   "codemirror_mode": {
    "name": "ipython",
    "version": 3
   },
   "file_extension": ".py",
   "mimetype": "text/x-python",
   "name": "python",
   "nbconvert_exporter": "python",
   "pygments_lexer": "ipython3",
   "version": "3.10.12"
  }
 },
 "nbformat": 4,
 "nbformat_minor": 2
}
